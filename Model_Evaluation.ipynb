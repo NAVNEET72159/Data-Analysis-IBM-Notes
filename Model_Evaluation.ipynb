{
 "cells": [
  {
   "cell_type": "markdown",
   "metadata": {},
   "source": [
    "# Model Evaluation\n",
    "- Previously we had discussed about In-sample evaluation. Tells us how or model will fit the data used to train it.\n",
    "- Problem: It does not tell us how the trained model can be used to predict new data.\n",
    "- But in real world we will be given a new data set which we have not seen before. We need to know how our model will perform on this new data.\n",
    "- Solution: We can use `train_test_split()` function from `sklearn.model_selection` library to split the data into training and testing data.\n",
    "- It divides the data into `training set` or `In-Sample data` and `testing set` or `Out-of-sample data`.\n",
    "- When we split our dataset, usually the larger portion of the dataset is used for `training` and smaller part is used for `testing`."
   ]
  },
  {
   "cell_type": "code",
   "execution_count": null,
   "metadata": {},
   "outputs": [],
   "source": [
    "from sklearn.model_selection import train_test_split\n",
    "x_train, x_test, y_train, y_test = train_test_split(X, Y, test_size=0.3, random_state=1)"
   ]
  },
  {
   "cell_type": "code",
   "execution_count": null,
   "metadata": {},
   "outputs": [],
   "source": [
    "pipe.fit(x_train, y_train)"
   ]
  },
  {
   "cell_type": "code",
   "execution_count": null,
   "metadata": {},
   "outputs": [],
   "source": [
    "pipe.score(x_test, y_test)"
   ]
  }
 ],
 "metadata": {
  "language_info": {
   "name": "python"
  }
 },
 "nbformat": 4,
 "nbformat_minor": 2
}
